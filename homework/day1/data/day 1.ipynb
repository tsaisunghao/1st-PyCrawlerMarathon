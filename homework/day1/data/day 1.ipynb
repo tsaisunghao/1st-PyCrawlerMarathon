{
 "cells": [
  {
   "cell_type": "markdown",
   "metadata": {},
   "source": [
    "# 簡答題\n",
    "檔案、API、爬蟲三種取得資料方式有什麼不同？\n",
    "\n",
    "檔案：當資料經過格式、類型、編排等整理後在彙整，即為檔案，使用者可以向檔案持有者請求，或是下載。資料處理的格式通常為csv json與xml\n",
    "API：由檔案/資料持有者所開放的資料串接口，使用者(工程師/資料分析師)可藉由API所規範的方式下載所需要的資料與檔案\n",
    "爬蟲：當資料或檔案室以網頁方式呈現的時候，使用者可以利用爬蟲將網頁上的資訊解析後下載，再進行整理\n",
    "\n"
   ]
  },
  {
   "cell_type": "markdown",
   "metadata": {},
   "source": [
    "# 實作題"
   ]
  },
  {
   "cell_type": "code",
   "execution_count": 1,
   "metadata": {},
   "outputs": [],
   "source": [
    "from urllib.request import urlretrieve"
   ]
  },
  {
   "cell_type": "code",
   "execution_count": 14,
   "metadata": {},
   "outputs": [
    {
     "data": {
      "text/plain": [
       "('Homework.txt', <http.client.HTTPMessage at 0x2904e58d2e8>)"
      ]
     },
     "execution_count": 14,
     "metadata": {},
     "output_type": "execute_result"
    }
   ],
   "source": [
    "#下載檔案\n",
    "urlretrieve(\"https://www.w3.org/TR/PNG/iso_8859-1.txt\",\"Homework.txt\")"
   ]
  },
  {
   "cell_type": "code",
   "execution_count": 20,
   "metadata": {},
   "outputs": [],
   "source": [
    "import os"
   ]
  },
  {
   "cell_type": "code",
   "execution_count": 21,
   "metadata": {},
   "outputs": [
    {
     "data": {
      "text/plain": [
       "'C:\\\\Users\\\\User\\\\Documents\\\\GitHub\\\\1st-PyCrawlerMarathon\\\\homework\\\\week1\\\\data'"
      ]
     },
     "execution_count": 21,
     "metadata": {},
     "output_type": "execute_result"
    }
   ],
   "source": [
    "os.getcwd()"
   ]
  },
  {
   "cell_type": "code",
   "execution_count": 22,
   "metadata": {},
   "outputs": [
    {
     "data": {
      "text/plain": [
       "['.ipynb_checkpoints', 'Homework.txt', 'week 1.ipynb']"
      ]
     },
     "execution_count": 22,
     "metadata": {},
     "output_type": "execute_result"
    }
   ],
   "source": [
    "#檢查檔案確實存在指定資料夾\n",
    "os.listdir()"
   ]
  },
  {
   "cell_type": "code",
   "execution_count": 13,
   "metadata": {},
   "outputs": [],
   "source": [
    "doc_to_w = open(\"Homework.txt\",\"a\")\n",
    "doc_to_w.write(\"Hello World\\n\")\n",
    "doc_to_w.write(\"Hello World\\n\")\n",
    "doc_to_w.write(\"Hello World\\n\")\n",
    "doc_to_w.write(\"Hello World\\n\")\n",
    "doc_to_w.write(\"Hello World\\n\")\n",
    "doc_to_w.close()"
   ]
  },
  {
   "cell_type": "code",
   "execution_count": null,
   "metadata": {},
   "outputs": [],
   "source": []
  }
 ],
 "metadata": {
  "kernelspec": {
   "display_name": "Python 3",
   "language": "python",
   "name": "python3"
  },
  "language_info": {
   "codemirror_mode": {
    "name": "ipython",
    "version": 3
   },
   "file_extension": ".py",
   "mimetype": "text/x-python",
   "name": "python",
   "nbconvert_exporter": "python",
   "pygments_lexer": "ipython3",
   "version": "3.6.7"
  }
 },
 "nbformat": 4,
 "nbformat_minor": 2
}

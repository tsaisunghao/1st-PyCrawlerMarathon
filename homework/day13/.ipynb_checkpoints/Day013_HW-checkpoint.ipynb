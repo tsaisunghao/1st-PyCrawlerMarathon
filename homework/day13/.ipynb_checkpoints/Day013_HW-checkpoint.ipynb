{
 "cells": [
  {
   "cell_type": "markdown",
   "metadata": {},
   "source": [
    "# PTT 網路爬蟲實作練習\n",
    "\n",
    "\n",
    "* 能夠利用 Request + BeatifulSour 撰寫爬蟲，並存放到合適的資料結構\n"
   ]
  },
  {
   "cell_type": "markdown",
   "metadata": {},
   "source": [
    "## 作業目標\n",
    "\n",
    "根據範例 ，完成以下問題：\n",
    "\n",
    "* ① 印出最新文章的「作者」「標題」「時間」\n",
    "* ② 印出第一頁所有文章的「作者」「標題」「時間」\n"
   ]
  },
  {
   "cell_type": "markdown",
   "metadata": {},
   "source": [
    "### ① 印出最新文章的「作者」「標題」「時間」"
   ]
  },
  {
   "cell_type": "code",
   "execution_count": 1,
   "metadata": {},
   "outputs": [],
   "source": [
    "import requests\n",
    "from bs4 import BeautifulSoup"
   ]
  },
  {
   "cell_type": "code",
   "execution_count": 2,
   "metadata": {},
   "outputs": [],
   "source": [
    "url='https://www.ptt.cc/bbs/Gossiping/index.html'"
   ]
  },
  {
   "cell_type": "code",
   "execution_count": 6,
   "metadata": {},
   "outputs": [],
   "source": [
    "res=requests.get(url, cookies={'over18':'1'})\n",
    "soup=BeautifulSoup(res.text,'html.parser')"
   ]
  },
  {
   "cell_type": "code",
   "execution_count": 7,
   "metadata": {},
   "outputs": [
    {
     "data": {
      "text/plain": [
       "<!DOCTYPE html>\n",
       "\n",
       "<html>\n",
       "<head>\n",
       "<meta charset=\"utf-8\"/>\n",
       "<meta content=\"width=device-width, initial-scale=1\" name=\"viewport\"/>\n",
       "<title>看板 Gossiping 文章列表 - 批踢踢實業坊</title>\n",
       "<link href=\"//images.ptt.cc/bbs/v2.27/bbs-common.css\" rel=\"stylesheet\" type=\"text/css\"/>\n",
       "<link href=\"//images.ptt.cc/bbs/v2.27/bbs-base.css\" media=\"screen\" rel=\"stylesheet\" type=\"text/css\"/>\n",
       "<link href=\"//images.ptt.cc/bbs/v2.27/bbs-custom.css\" rel=\"stylesheet\" type=\"text/css\"/>\n",
       "<link href=\"//images.ptt.cc/bbs/v2.27/pushstream.css\" media=\"screen\" rel=\"stylesheet\" type=\"text/css\"/>\n",
       "<link href=\"//images.ptt.cc/bbs/v2.27/bbs-print.css\" media=\"print\" rel=\"stylesheet\" type=\"text/css\"/>\n",
       "</head>\n",
       "<body>\n",
       "<div id=\"topbar-container\">\n",
       "<div class=\"bbs-content\" id=\"topbar\">\n",
       "<a href=\"/bbs/\" id=\"logo\">批踢踢實業坊</a>\n",
       "<span>›</span>\n",
       "<a class=\"board\" href=\"/bbs/Gossiping/index.html\"><span class=\"board-label\">看板 </span>Gossiping</a>\n",
       "<a class=\"right small\" href=\"/about.html\">關於我們</a>\n",
       "<a class=\"right small\" href=\"/contact.html\">聯絡資訊</a>\n",
       "</div>\n",
       "</div>\n",
       "<div id=\"main-container\">\n",
       "<div id=\"action-bar-container\">\n",
       "<div class=\"action-bar\">\n",
       "<div class=\"btn-group btn-group-dir\">\n",
       "<a class=\"btn selected\" href=\"/bbs/Gossiping/index.html\">看板</a>\n",
       "<a class=\"btn\" href=\"/man/Gossiping/index.html\">精華區</a>\n",
       "</div>\n",
       "<div class=\"btn-group btn-group-paging\">\n",
       "<a class=\"btn wide\" href=\"/bbs/Gossiping/index1.html\">最舊</a>\n",
       "<a class=\"btn wide\" href=\"/bbs/Gossiping/index39092.html\">‹ 上頁</a>\n",
       "<a class=\"btn wide disabled\">下頁 ›</a>\n",
       "<a class=\"btn wide\" href=\"/bbs/Gossiping/index.html\">最新</a>\n",
       "</div>\n",
       "</div>\n",
       "</div>\n",
       "<div class=\"r-list-container action-bar-margin bbs-screen\">\n",
       "<div class=\"search-bar\">\n",
       "<form action=\"search\" id=\"search-bar\" type=\"get\">\n",
       "<input class=\"query\" name=\"q\" placeholder=\"搜尋文章⋯\" type=\"text\" value=\"\"/>\n",
       "</form>\n",
       "</div>\n",
       "<div class=\"r-ent\">\n",
       "<div class=\"nrec\"><span class=\"hl f2\">9</span></div>\n",
       "<div class=\"title\">\n",
       "<a href=\"/bbs/Gossiping/M.1577315378.A.D6D.html\">[新聞] 影》8公分巨大蟑螂難產 主人急送醫手術</a>\n",
       "</div>\n",
       "<div class=\"meta\">\n",
       "<div class=\"author\">ravager</div>\n",
       "<div class=\"article-menu\">\n",
       "<div class=\"trigger\">⋯</div>\n",
       "<div class=\"dropdown\">\n",
       "<div class=\"item\"><a href=\"/bbs/Gossiping/search?q=thread%3A%5B%E6%96%B0%E8%81%9E%5D+%E5%BD%B1%E3%80%8B8%E5%85%AC%E5%88%86%E5%B7%A8%E5%A4%A7%E8%9F%91%E8%9E%82%E9%9B%A3%E7%94%A2+%E4%B8%BB%E4%BA%BA%E6%80%A5%E9%80%81%E9%86%AB%E6%89%8B%E8%A1%93\">搜尋同標題文章</a></div>\n",
       "<div class=\"item\"><a href=\"/bbs/Gossiping/search?q=author%3Aravager\">搜尋看板內 ravager 的文章</a></div>\n",
       "</div>\n",
       "</div>\n",
       "<div class=\"date\">12/26</div>\n",
       "<div class=\"mark\"></div>\n",
       "</div>\n",
       "</div>\n",
       "<div class=\"r-ent\">\n",
       "<div class=\"nrec\"></div>\n",
       "<div class=\"title\">\n",
       "<a href=\"/bbs/Gossiping/M.1577315843.A.C41.html\">Re: [新聞] 中市府罰中火900萬、2機組廢照 台電擬提</a>\n",
       "</div>\n",
       "<div class=\"meta\">\n",
       "<div class=\"author\">drea</div>\n",
       "<div class=\"article-menu\">\n",
       "<div class=\"trigger\">⋯</div>\n",
       "<div class=\"dropdown\">\n",
       "<div class=\"item\"><a href=\"/bbs/Gossiping/search?q=thread%3A%5B%E6%96%B0%E8%81%9E%5D+%E4%B8%AD%E5%B8%82%E5%BA%9C%E7%BD%B0%E4%B8%AD%E7%81%AB900%E8%90%AC%E3%80%812%E6%A9%9F%E7%B5%84%E5%BB%A2%E7%85%A7+%E5%8F%B0%E9%9B%BB%E6%93%AC%E6%8F%90\">搜尋同標題文章</a></div>\n",
       "<div class=\"item\"><a href=\"/bbs/Gossiping/search?q=author%3Adrea\">搜尋看板內 drea 的文章</a></div>\n",
       "</div>\n",
       "</div>\n",
       "<div class=\"date\">12/26</div>\n",
       "<div class=\"mark\"></div>\n",
       "</div>\n",
       "</div>\n",
       "<div class=\"r-ent\">\n",
       "<div class=\"nrec\"></div>\n",
       "<div class=\"title\">\n",
       "<a href=\"/bbs/Gossiping/M.1577315926.A.C15.html\">Re: [新聞] 接上「罷韓」熱潮！ 台中「罷燕」網站上</a>\n",
       "</div>\n",
       "<div class=\"meta\">\n",
       "<div class=\"author\">hong1126</div>\n",
       "<div class=\"article-menu\">\n",
       "<div class=\"trigger\">⋯</div>\n",
       "<div class=\"dropdown\">\n",
       "<div class=\"item\"><a href=\"/bbs/Gossiping/search?q=thread%3A%5B%E6%96%B0%E8%81%9E%5D+%E6%8E%A5%E4%B8%8A%E3%80%8C%E7%BD%B7%E9%9F%93%E3%80%8D%E7%86%B1%E6%BD%AE%EF%BC%81+%E5%8F%B0%E4%B8%AD%E3%80%8C%E7%BD%B7%E7%87%95%E3%80%8D%E7%B6%B2%E7%AB%99%E4%B8%8A\">搜尋同標題文章</a></div>\n",
       "<div class=\"item\"><a href=\"/bbs/Gossiping/search?q=author%3Ahong1126\">搜尋看板內 hong1126 的文章</a></div>\n",
       "</div>\n",
       "</div>\n",
       "<div class=\"date\">12/26</div>\n",
       "<div class=\"mark\"></div>\n",
       "</div>\n",
       "</div>\n",
       "<div class=\"r-list-sep\"></div>\n",
       "<div class=\"r-ent\">\n",
       "<div class=\"nrec\"></div>\n",
       "<div class=\"title\">\n",
       "<a href=\"/bbs/Gossiping/M.1566347622.A.9C7.html\">[公告] 八卦板板規(2019.08.21)</a>\n",
       "</div>\n",
       "<div class=\"meta\">\n",
       "<div class=\"author\">arsonlolita</div>\n",
       "<div class=\"article-menu\">\n",
       "<div class=\"trigger\">⋯</div>\n",
       "<div class=\"dropdown\">\n",
       "<div class=\"item\"><a href=\"/bbs/Gossiping/search?q=thread%3A%5B%E5%85%AC%E5%91%8A%5D+%E5%85%AB%E5%8D%A6%E6%9D%BF%E6%9D%BF%E8%A6%8F%282019.08.21%29\">搜尋同標題文章</a></div>\n",
       "<div class=\"item\"><a href=\"/bbs/Gossiping/search?q=author%3Aarsonlolita\">搜尋看板內 arsonlolita 的文章</a></div>\n",
       "</div>\n",
       "</div>\n",
       "<div class=\"date\"> 8/21</div>\n",
       "<div class=\"mark\">!</div>\n",
       "</div>\n",
       "</div>\n",
       "<div class=\"r-ent\">\n",
       "<div class=\"nrec\"><span class=\"hl f3\">10</span></div>\n",
       "<div class=\"title\">\n",
       "<a href=\"/bbs/Gossiping/M.1576742959.A.429.html\">[協尋] 行車記錄器 高雄區/鳳山區 </a>\n",
       "</div>\n",
       "<div class=\"meta\">\n",
       "<div class=\"author\">arsonlolita</div>\n",
       "<div class=\"article-menu\">\n",
       "<div class=\"trigger\">⋯</div>\n",
       "<div class=\"dropdown\">\n",
       "<div class=\"item\"><a href=\"/bbs/Gossiping/search?q=thread%3A%5B%E5%8D%94%E5%B0%8B%5D+%E8%A1%8C%E8%BB%8A%E8%A8%98%E9%8C%84%E5%99%A8+%E9%AB%98%E9%9B%84%E5%8D%80%2F%E9%B3%B3%E5%B1%B1%E5%8D%80+\">搜尋同標題文章</a></div>\n",
       "<div class=\"item\"><a href=\"/bbs/Gossiping/search?q=author%3Aarsonlolita\">搜尋看板內 arsonlolita 的文章</a></div>\n",
       "</div>\n",
       "</div>\n",
       "<div class=\"date\">12/19</div>\n",
       "<div class=\"mark\"></div>\n",
       "</div>\n",
       "</div>\n",
       "<div class=\"r-ent\">\n",
       "<div class=\"nrec\"><span class=\"hl f2\">3</span></div>\n",
       "<div class=\"title\">\n",
       "<a href=\"/bbs/Gossiping/M.1577167186.A.4C3.html\">[協尋] 基隆市七堵區八德路段6號 車禍昏迷 </a>\n",
       "</div>\n",
       "<div class=\"meta\">\n",
       "<div class=\"author\">arsonlolita</div>\n",
       "<div class=\"article-menu\">\n",
       "<div class=\"trigger\">⋯</div>\n",
       "<div class=\"dropdown\">\n",
       "<div class=\"item\"><a href=\"/bbs/Gossiping/search?q=thread%3A%5B%E5%8D%94%E5%B0%8B%5D+%E5%9F%BA%E9%9A%86%E5%B8%82%E4%B8%83%E5%A0%B5%E5%8D%80%E5%85%AB%E5%BE%B7%E8%B7%AF%E6%AE%B56%E8%99%9F+%E8%BB%8A%E7%A6%8D%E6%98%8F%E8%BF%B7+\">搜尋同標題文章</a></div>\n",
       "<div class=\"item\"><a href=\"/bbs/Gossiping/search?q=author%3Aarsonlolita\">搜尋看板內 arsonlolita 的文章</a></div>\n",
       "</div>\n",
       "</div>\n",
       "<div class=\"date\">12/24</div>\n",
       "<div class=\"mark\">M</div>\n",
       "</div>\n",
       "</div>\n",
       "<div class=\"r-ent\">\n",
       "<div class=\"nrec\"><span class=\"hl f3\">17</span></div>\n",
       "<div class=\"title\">\n",
       "<a href=\"/bbs/Gossiping/M.1576774867.A.B6D.html\">[協尋] 友人妹妹失蹤 代po</a>\n",
       "</div>\n",
       "<div class=\"meta\">\n",
       "<div class=\"author\">xraven</div>\n",
       "<div class=\"article-menu\">\n",
       "<div class=\"trigger\">⋯</div>\n",
       "<div class=\"dropdown\">\n",
       "<div class=\"item\"><a href=\"/bbs/Gossiping/search?q=thread%3A%5B%E5%8D%94%E5%B0%8B%5D+%E5%8F%8B%E4%BA%BA%E5%A6%B9%E5%A6%B9%E5%A4%B1%E8%B9%A4+%E4%BB%A3po\">搜尋同標題文章</a></div>\n",
       "<div class=\"item\"><a href=\"/bbs/Gossiping/search?q=author%3Axraven\">搜尋看板內 xraven 的文章</a></div>\n",
       "</div>\n",
       "</div>\n",
       "<div class=\"date\">12/20</div>\n",
       "<div class=\"mark\"></div>\n",
       "</div>\n",
       "</div>\n",
       "<div class=\"r-ent\">\n",
       "<div class=\"nrec\"><span class=\"hl f2\">8</span></div>\n",
       "<div class=\"title\">\n",
       "<a href=\"/bbs/Gossiping/M.1575299597.A.058.html\">[公告] 一劍無悔，十二月置底閒聊文</a>\n",
       "</div>\n",
       "<div class=\"meta\">\n",
       "<div class=\"author\">Bignana</div>\n",
       "<div class=\"article-menu\">\n",
       "<div class=\"trigger\">⋯</div>\n",
       "<div class=\"dropdown\">\n",
       "<div class=\"item\"><a href=\"/bbs/Gossiping/search?q=thread%3A%5B%E5%85%AC%E5%91%8A%5D+%E4%B8%80%E5%8A%8D%E7%84%A1%E6%82%94%EF%BC%8C%E5%8D%81%E4%BA%8C%E6%9C%88%E7%BD%AE%E5%BA%95%E9%96%92%E8%81%8A%E6%96%87\">搜尋同標題文章</a></div>\n",
       "<div class=\"item\"><a href=\"/bbs/Gossiping/search?q=author%3ABignana\">搜尋看板內 Bignana 的文章</a></div>\n",
       "</div>\n",
       "</div>\n",
       "<div class=\"date\">12/02</div>\n",
       "<div class=\"mark\">M</div>\n",
       "</div>\n",
       "</div>\n",
       "</div>\n",
       "<div class=\"bbs-screen bbs-footer-message\">本網站已依台灣網站內容分級規定處理。此區域為限制級，未滿十八歲者不得瀏覽。</div>\n",
       "</div>\n",
       "<script>\n",
       "  (function(i,s,o,g,r,a,m){i['GoogleAnalyticsObject']=r;i[r]=i[r]||function(){\n",
       "  (i[r].q=i[r].q||[]).push(arguments)},i[r].l=1*new Date();a=s.createElement(o),\n",
       "  m=s.getElementsByTagName(o)[0];a.async=1;a.src=g;m.parentNode.insertBefore(a,m)\n",
       "  })(window,document,'script','https://www.google-analytics.com/analytics.js','ga');\n",
       "\n",
       "  ga('create', 'UA-32365737-1', {\n",
       "    cookieDomain: 'ptt.cc',\n",
       "    legacyCookieDomain: 'ptt.cc'\n",
       "  });\n",
       "  ga('send', 'pageview');\n",
       "</script>\n",
       "<script src=\"//ajax.googleapis.com/ajax/libs/jquery/2.1.1/jquery.min.js\"></script>\n",
       "<script src=\"//images.ptt.cc/bbs/v2.27/bbs.js\"></script>\n",
       "</body>\n",
       "</html>"
      ]
     },
     "execution_count": 7,
     "metadata": {},
     "output_type": "execute_result"
    }
   ],
   "source": [
    "soup"
   ]
  },
  {
   "cell_type": "code",
   "execution_count": 12,
   "metadata": {},
   "outputs": [],
   "source": [
    "tag_rent= soup.find('div', class_='r-ent')"
   ]
  },
  {
   "cell_type": "code",
   "execution_count": 14,
   "metadata": {},
   "outputs": [
    {
     "name": "stdout",
     "output_type": "stream",
     "text": [
      "<div class=\"r-ent\">\n",
      "<div class=\"nrec\"><span class=\"hl f2\">9</span></div>\n",
      "<div class=\"title\">\n",
      "<a href=\"/bbs/Gossiping/M.1577315378.A.D6D.html\">[新聞] 影》8公分巨大蟑螂難產 主人急送醫手術</a>\n",
      "</div>\n",
      "<div class=\"meta\">\n",
      "<div class=\"author\">ravager</div>\n",
      "<div class=\"article-menu\">\n",
      "<div class=\"trigger\">⋯</div>\n",
      "<div class=\"dropdown\">\n",
      "<div class=\"item\"><a href=\"/bbs/Gossiping/search?q=thread%3A%5B%E6%96%B0%E8%81%9E%5D+%E5%BD%B1%E3%80%8B8%E5%85%AC%E5%88%86%E5%B7%A8%E5%A4%A7%E8%9F%91%E8%9E%82%E9%9B%A3%E7%94%A2+%E4%B8%BB%E4%BA%BA%E6%80%A5%E9%80%81%E9%86%AB%E6%89%8B%E8%A1%93\">搜尋同標題文章</a></div>\n",
      "<div class=\"item\"><a href=\"/bbs/Gossiping/search?q=author%3Aravager\">搜尋看板內 ravager 的文章</a></div>\n",
      "</div>\n",
      "</div>\n",
      "<div class=\"date\">12/26</div>\n",
      "<div class=\"mark\"></div>\n",
      "</div>\n",
      "</div>\n"
     ]
    }
   ],
   "source": [
    "print(tag_rent)"
   ]
  },
  {
   "cell_type": "code",
   "execution_count": 20,
   "metadata": {},
   "outputs": [
    {
     "data": {
      "text/plain": [
       "['ravager']"
      ]
     },
     "execution_count": 20,
     "metadata": {},
     "output_type": "execute_result"
    }
   ],
   "source": [
    "author = tag_rent.findChild('div', class_='author')\n",
    "author.contents"
   ]
  },
  {
   "cell_type": "code",
   "execution_count": 22,
   "metadata": {},
   "outputs": [
    {
     "data": {
      "text/plain": [
       "['[新聞] 影》8公分巨大蟑螂難產 主人急送醫手術']"
      ]
     },
     "execution_count": 22,
     "metadata": {},
     "output_type": "execute_result"
    }
   ],
   "source": [
    "title = tag_rent.findChild('div', class_='title').findChild('a')\n",
    "title.contents"
   ]
  },
  {
   "cell_type": "code",
   "execution_count": 23,
   "metadata": {},
   "outputs": [
    {
     "data": {
      "text/plain": [
       "['12/26']"
      ]
     },
     "execution_count": 23,
     "metadata": {},
     "output_type": "execute_result"
    }
   ],
   "source": [
    "date = tag_rent.findChild('div', class_='date')\n",
    "date.contents"
   ]
  },
  {
   "cell_type": "code",
   "execution_count": null,
   "metadata": {},
   "outputs": [],
   "source": []
  },
  {
   "cell_type": "markdown",
   "metadata": {},
   "source": [
    "### ② 印出第一頁所有文章的「作者」「標題」「時間」"
   ]
  },
  {
   "cell_type": "code",
   "execution_count": 32,
   "metadata": {},
   "outputs": [
    {
     "name": "stdout",
     "output_type": "stream",
     "text": [
      "ravager\n",
      "drea\n",
      "hong1126\n",
      "arsonlolita\n",
      "arsonlolita\n",
      "arsonlolita\n",
      "xraven\n",
      "Bignana\n"
     ]
    }
   ],
   "source": [
    "for authors in soup.findAll('div', class_='author'):\n",
    "    print (authors.text)"
   ]
  },
  {
   "cell_type": "code",
   "execution_count": 33,
   "metadata": {},
   "outputs": [
    {
     "name": "stdout",
     "output_type": "stream",
     "text": [
      "\n",
      "[新聞] 影》8公分巨大蟑螂難產 主人急送醫手術\n",
      "\n",
      "\n",
      "Re: [新聞] 中市府罰中火900萬、2機組廢照 台電擬提\n",
      "\n",
      "\n",
      "Re: [新聞] 接上「罷韓」熱潮！ 台中「罷燕」網站上\n",
      "\n",
      "\n",
      "[公告] 八卦板板規(2019.08.21)\n",
      "\n",
      "\n",
      "[協尋] 行車記錄器 高雄區/鳳山區 \n",
      "\n",
      "\n",
      "[協尋] 基隆市七堵區八德路段6號 車禍昏迷 \n",
      "\n",
      "\n",
      "[協尋] 友人妹妹失蹤 代po\n",
      "\n",
      "\n",
      "[公告] 一劍無悔，十二月置底閒聊文\n",
      "\n"
     ]
    }
   ],
   "source": [
    "for titles in soup.findAll('div', class_='title'):\n",
    "    print (titles.text)"
   ]
  },
  {
   "cell_type": "code",
   "execution_count": 42,
   "metadata": {},
   "outputs": [
    {
     "name": "stdout",
     "output_type": "stream",
     "text": [
      "12/26\n",
      "12/26\n",
      "12/26\n",
      " 8/21\n",
      "12/19\n",
      "12/24\n",
      "12/20\n",
      "12/02\n"
     ]
    }
   ],
   "source": [
    "for days in soup.findAll('div', class_='date'):\n",
    "    print (days.text)"
   ]
  },
  {
   "cell_type": "markdown",
   "metadata": {},
   "source": [
    "### ③ 試著爬爬看其他版的文章"
   ]
  },
  {
   "cell_type": "code",
   "execution_count": 35,
   "metadata": {},
   "outputs": [],
   "source": [
    "beauty_url='https://www.ptt.cc/bbs/Beauty/index.html'"
   ]
  },
  {
   "cell_type": "code",
   "execution_count": 36,
   "metadata": {},
   "outputs": [],
   "source": [
    "res_beauty=requests.get(beauty_url, cookies={'over18':'1'})\n",
    "soup_beauty=BeautifulSoup(res_beauty.text,'html.parser')"
   ]
  },
  {
   "cell_type": "code",
   "execution_count": 37,
   "metadata": {},
   "outputs": [
    {
     "name": "stdout",
     "output_type": "stream",
     "text": [
      "LeonRai\n",
      "Boss741108\n",
      "xibi11231123\n",
      "AmedRosario\n",
      "-\n",
      "Aa00111157\n",
      "xibi11231123\n",
      "AmedRosario\n",
      "hateOnas\n",
      "hateOnas\n",
      "hateOnas\n",
      "hateOnas\n",
      "hateOnas\n"
     ]
    }
   ],
   "source": [
    "for authors in soup_beauty.findAll('div', class_='author'):\n",
    "    print (authors.text)"
   ]
  },
  {
   "cell_type": "code",
   "execution_count": 43,
   "metadata": {},
   "outputs": [
    {
     "name": "stdout",
     "output_type": "stream",
     "text": [
      "\n",
      "[正妹] 粉雪\n",
      "\n",
      "[正妹] AV 並木優\n",
      "\n",
      "[正妹] 出賣朋友IV\n",
      "\n",
      "[正妹] 短髮 我喜歡短髮\n",
      "\n",
      "\t\t\t\n",
      "\t\t\t\t(本文已被刪除) [Moderate]\n",
      "\t\t\t\n",
      "\t\t\t\n",
      "[正妹] 維尼\n",
      "\n",
      "[正妹] 小梨窩\n",
      "\n",
      "[正妹] 包不住\n",
      "\n",
      "[公告] 不願上表特 ＆ 優文推薦 ＆ 檢舉建議專區\n",
      "\n",
      "Fw: [公告] 請使用者多加注意我國保護兒少的法令\n",
      "\n",
      "[公告] 表特板板規(2019.7.26)\n",
      "\n",
      "[公告] 201907 板主徵選延長\n",
      "\n",
      "[公告] 請勿意淫推文 \n"
     ]
    }
   ],
   "source": [
    "for titles in soup_beauty.findAll('div', class_='title'):\n",
    "    print (titles.text,end = '')"
   ]
  },
  {
   "cell_type": "code",
   "execution_count": 47,
   "metadata": {},
   "outputs": [
    {
     "name": "stdout",
     "output_type": "stream",
     "text": [
      "12/27\n",
      "12/27\n",
      "12/27\n",
      "12/27\n",
      "12/27\n",
      "12/27\n",
      "12/27\n",
      "12/27\n",
      " 5/21\n",
      " 7/24\n",
      " 7/26\n",
      " 7/26\n",
      "11/23\n"
     ]
    }
   ],
   "source": [
    "for days in soup_beauty.findAll('div', class_='date'):\n",
    "    print (days.text)"
   ]
  },
  {
   "cell_type": "code",
   "execution_count": null,
   "metadata": {},
   "outputs": [],
   "source": []
  }
 ],
 "metadata": {
  "kernelspec": {
   "display_name": "Python 3",
   "language": "python",
   "name": "python3"
  },
  "language_info": {
   "codemirror_mode": {
    "name": "ipython",
    "version": 3
   },
   "file_extension": ".py",
   "mimetype": "text/x-python",
   "name": "python",
   "nbconvert_exporter": "python",
   "pygments_lexer": "ipython3",
   "version": "3.6.7"
  }
 },
 "nbformat": 4,
 "nbformat_minor": 2
}

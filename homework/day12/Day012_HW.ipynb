{
 "cells": [
  {
   "cell_type": "markdown",
   "metadata": {},
   "source": [
    "# Ettoday 網路爬蟲實作練習\n",
    "\n",
    "\n",
    "* 能夠利用 Request + BeatifulSour 撰寫爬蟲，並存放到合適的資料結構\n"
   ]
  },
  {
   "cell_type": "markdown",
   "metadata": {},
   "source": [
    "## 作業目標\n",
    "\n",
    "根據範例 ，完成以下問題：\n",
    "\n",
    "* ① 取出今天所有的發文\n",
    "* ② 如果想要依照類別分類，怎麼儲存會比較好？\n",
    "* ③ 哪一個類別的文章最多\n",
    "\n",
    "\n"
   ]
  },
  {
   "cell_type": "markdown",
   "metadata": {},
   "source": [
    "### ① 取出今天所有的發文"
   ]
  },
  {
   "cell_type": "code",
   "execution_count": 1,
   "metadata": {
    "scrolled": false
   },
   "outputs": [],
   "source": [
    "import requests\n",
    "from bs4 import BeautifulSoup"
   ]
  },
  {
   "cell_type": "code",
   "execution_count": 2,
   "metadata": {},
   "outputs": [],
   "source": [
    "url ='https://www.ettoday.net/news/news-list.htm'"
   ]
  },
  {
   "cell_type": "code",
   "execution_count": 3,
   "metadata": {},
   "outputs": [
    {
     "data": {
      "text/plain": [
       "<Response [200]>"
      ]
     },
     "execution_count": 3,
     "metadata": {},
     "output_type": "execute_result"
    }
   ],
   "source": [
    "resp = requests.get(url)\n",
    "resp"
   ]
  },
  {
   "cell_type": "code",
   "execution_count": 4,
   "metadata": {},
   "outputs": [],
   "source": [
    "soup = BeautifulSoup(resp.text, 'html.parser')"
   ]
  },
  {
   "cell_type": "code",
   "execution_count": 5,
   "metadata": {},
   "outputs": [],
   "source": [
    "div_tag=soup.find(\"div\", class_=\"part_list_2\")"
   ]
  },
  {
   "cell_type": "code",
   "execution_count": 6,
   "metadata": {},
   "outputs": [
    {
     "data": {
      "text/plain": [
       "<div class=\"part_list_2\">\n",
       "<h3><span class=\"date\">2019/12/22 19:18</span><em class=\"tag c_star\">影劇</em><a href=\"/news/20191222/1607938.htm\" target=\"_blank\"><i class=\"icon_type_video\"></i>周杰倫「IG巧妙排版」：對面的女孩看過來！　粉絲打開主頁被閃瞎</a></h3>\n",
       "<h3><span class=\"date\">2019/12/22 19:17</span><em class=\"tag c_news\">政治</em><a href=\"/news/20191222/1607939.htm\" target=\"_blank\">王金平選前歸隊挺藍委　韓國瑜：十幾年來都對他都有一份敬重之心</a></h3>\n",
       "<h3><span class=\"date\">2019/12/22 19:12</span><em class=\"tag c_star\">影劇</em><a href=\"/news/20191222/1607934.htm\" target=\"_blank\"><i class=\"icon_type_video\"></i>李棟旭爆把妹直接要電話「隔天就約吃飯」！李壽根傳出演下期嘉賓</a></h3>\n",
       "<h3><span class=\"date\">2019/12/22 19:10</span><em class=\"tag c_star\">影劇</em><a href=\"/news/20191222/1607932.htm\" target=\"_blank\"><i class=\"icon_type_video\"></i>柴智屏嫁女兒「大小S突缺席」汪小菲獨撐場！驚傳「徐媽媽生病了」</a></h3>\n",
       "<h3><span class=\"date\">2019/12/22 19:07</span><em class=\"tag c_star\">影劇</em><a href=\"/news/20191222/1607933.htm\" target=\"_blank\">謝忻婚宴穿著超有禮貌！　「胡瓜助理身份出席」被問阿翔她尷尬笑</a></h3>\n",
       "<h3><span class=\"date\">2019/12/22 19:03</span><em class=\"tag c_china\">大陸</em><a href=\"/news/20191222/1607910.htm\" target=\"_blank\">颱風天救災到凌晨！消防員路邊吞12包子…血壓過低離職「身體好再歸隊」</a></h3>\n",
       "<h3><span class=\"date\">2019/12/22 19:02</span><em class=\"tag c_star\">影劇</em><a href=\"/news/20191222/1607928.htm\" target=\"_blank\">大咖韓劇女神在高雄！　瘋嚐台灣美食「打卡瑞豐夜市」狂讚：最愛奶茶</a></h3>\n",
       "<h3><span class=\"date\">2019/12/22 19:01</span><em class=\"tag c_pet\">寵物動物</em><a href=\"/news/20191222/1607924.htm\" target=\"_blank\"><i class=\"icon_type_video\"></i>戲精鸚鵡「哭腔+啜泣」狂喊：要被咬死了　姐一看...根本沒人動牠</a></h3>\n",
       "<h3><span class=\"date\">2019/12/22 19:00</span><em class=\"tag c_netsearch\">網搜</em><a href=\"/news/20191222/1605793.htm\" target=\"_blank\">DCARD強大對手出現！　女大生脫離邊緣人感情觸礁大丈夫  　</a></h3>\n",
       "<h3><span class=\"date\">2019/12/22 18:59</span><em class=\"tag c_star\">影劇</em><a href=\"/news/20191222/1607880.htm\" target=\"_blank\">《圈套》吳承洋：我放棄唱歌好多年　首場演唱會「情歌天后」站台秒淚崩</a></h3>\n",
       "<h3><span class=\"date\">2019/12/22 18:57</span><em class=\"tag c_health\">健康</em><a href=\"/news/20191222/1607931.htm\" target=\"_blank\">女子吃止痛藥後竟起紅疹休克送醫　 全身型過敏性反應可能致命！</a></h3>\n",
       "<h3><span class=\"date\">2019/12/22 18:52</span><em class=\"tag c_health\">健康</em><a href=\"/news/20191222/1607927.htm\" target=\"_blank\">咻咻的呼吸聲秋冬不怕氣喘犯　奇美醫協助＂棄＂喘大作戰</a></h3>\n",
       "<h3><span class=\"date\">2019/12/22 18:43</span><em class=\"tag c_star\">影劇</em><a href=\"/news/20191222/1607926.htm\" target=\"_blank\">哈孝遠老婆婚宴胸前大開深V「伴娘消失追星」　他累爆全身汗：婚結一次就好</a></h3>\n",
       "<h3><span class=\"date\">2019/12/22 18:37</span><em class=\"tag c_house\">房產雲</em><a href=\"/news/20191222/1607916.htm\" target=\"_blank\">盤點新北拆除8座「蚊子橋」　周邊店面成大贏家租金up</a></h3>\n",
       "<h3><span class=\"date\">2019/12/22 18:37</span><em class=\"tag c_news\">政治</em><a href=\"/news/20191222/1607904.htm\" target=\"_blank\">台灣指標民調／花蓮立委選情膠著　蕭美琴緊追傅焜萁0.4％</a></h3>\n",
       "<h3><span class=\"date\">2019/12/22 18:33</span><em class=\"tag c_star\">影劇</em><a href=\"/news/20191222/1607917.htm\" target=\"_blank\"><i class=\"icon_type_video\"></i>林俊傑家鄉開唱「8萬觀眾破紀錄」...少女時代成員驚喜現身！</a></h3>\n",
       "<h3><span class=\"date\">2019/12/22 18:25</span><em class=\"tag c_health\">健康</em><a href=\"/news/20191222/1607732.htm\" target=\"_blank\">冬至「瘋進補」拖垮身體！醫：自制力＝健康力...能防百病入侵</a></h3>\n",
       "<h3><span class=\"date\">2019/12/22 18:23</span><em class=\"tag c_star\">影劇</em><a href=\"/news/20191222/1607915.htm\" target=\"_blank\"><i class=\"icon_type_video\"></i>柴智屏女兒伴娘曝光！「高顏值女星」性感現身：她就是敢找我</a></h3>\n",
       "<h3><span class=\"date\">2019/12/22 18:22</span><em class=\"tag c_star\">影劇</em><a href=\"/news/20191222/1607840.htm\" target=\"_blank\">男友劈腿嫌「顏值輸給前女友」　日女星整形飄仙氣「G奶是真的！」</a></h3>\n",
       "<h3><span class=\"date\">2019/12/22 18:21</span><em class=\"tag c_pet\">寵物動物</em><a href=\"/news/20191222/1607800.htm\" target=\"_blank\"><i class=\"icon_type_video\"></i>硬撐陪媽媽工作！　暖心貓累到頭靠筆電...下秒「先睡著了」</a></h3>\n",
       "<h3><span class=\"date\">2019/12/22 18:20</span><em class=\"tag c_news\">政治</em><a href=\"/news/20191222/1607914.htm\" target=\"_blank\"><i class=\"icon_type_video\"></i>李佳芬低調回高雄參加公益活動　聽到「新莊王小姐」快步離去</a></h3>\n",
       "<h3><span class=\"date\">2019/12/22 18:20</span><em class=\"tag c_fashion\">時尚</em><a href=\"/news/20191222/1606608.htm\" target=\"_blank\"><i class=\"icon_type_video\"></i>迪奧「玫瑰粉頰彩」全新升級　經典緹花壓紋超時髦</a></h3>\n",
       "<h3><span class=\"date\">2019/12/22 18:15</span><em class=\"tag c_pet\">寵物動物</em><a href=\"/news/20191222/1607841.htm\" target=\"_blank\">超友善商店！收編同胎「浪貓→店貓」　準備雙碗貓盆餵飼料</a></h3>\n",
       "<h3><span class=\"date\">2019/12/22 18:12</span><em class=\"tag c_star\">影劇</em><a href=\"/news/20191222/1607889.htm\" target=\"_blank\">柴智屏嫁女兒超辣！緊身禮服「上下深V」一插腰好身材炸出</a></h3>\n",
       "<h3><span class=\"date\">2019/12/22 18:11</span><em class=\"tag c_local\">地方</em><a href=\"/news/20191222/1607898.htm\" target=\"_blank\">鍾佳濱力挺台灣盃三對三女籃賽　挑戰明年前進東京奧運</a></h3>\n",
       "<h3><span class=\"date\">2019/12/22 18:10</span><em class=\"tag c_pet\">寵物動物</em><a href=\"/news/20191222/1607691.htm\" target=\"_blank\"><i class=\"icon_type_video\"></i>「請你讓開！」阿嬤苦勸狗孫借過　牠故意大腿開開：才不要</a></h3>\n",
       "<h3><span class=\"date\">2019/12/22 18:08</span><em class=\"tag c_star\">影劇</em><a href=\"/news/20191222/1607905.htm\" target=\"_blank\">高雋雅大婚有「媳婦守則」？　柴智屏誇女兒：比我還會駕馭男人</a></h3>\n",
       "<h3><span class=\"date\">2019/12/22 18:07</span><em class=\"tag c_global\">國際</em><a href=\"/news/20191222/1607903.htm\" target=\"_blank\">川普要征服宇宙！投入22兆軍事預算　成立「太空軍」要與中俄鬥到銀河系</a></h3>\n",
       "<h3><span class=\"date\">2019/12/22 18:03</span><em class=\"tag c_sport\">體育</em><a href=\"/news/20191222/1607909.htm\" target=\"_blank\">潘政琮在美國成立基金會　分享赴美經驗提「4A」要素</a></h3>\n",
       "<h3><span class=\"date\">2019/12/22 18:03</span><em class=\"tag c_speed\">ET車雲</em><a href=\"/news/20191222/1607710.htm\" target=\"_blank\">年底買新車「錢怎麼花在刀口上」？3大重點提醒、科技配備選滿</a></h3>\n",
       "<h3><span class=\"date\">2019/12/22 18:01</span><em class=\"tag c_lifestyle\">生活</em><a href=\"/news/20191222/1607894.htm\" target=\"_blank\">一周天氣出爐！巴逢颱風水氣亂「周五全台有雨」　氣象局曝跨年變數</a></h3>\n",
       "<h3><span class=\"date\">2019/12/22 18:01</span><em class=\"tag c_china\">大陸</em><a href=\"/news/20191222/1607881.htm\" target=\"_blank\">雲南「炒豬團」轎車載豬闖ETC　「運一頭多賺4千」屎味太臭被抓</a></h3>\n",
       "<h3><span class=\"date\">2019/12/22 18:00</span><em class=\"tag c_local\">地方</em><a href=\"/news/20191222/1607907.htm\" target=\"_blank\">耶誕跨年演唱會辛苦執勤　暖心分局長設置行動補給站</a></h3>\n",
       "<h3><span class=\"date\">2019/12/22 18:00</span><em class=\"tag c_star\">影劇</em><a href=\"/news/20191222/1607899.htm\" target=\"_blank\">要求贊助婚紗「趕工完成又嫌垃圾不穿」　設計師踢爆女星：把自己當受害者</a></h3>\n",
       "<h3><span class=\"date\">2019/12/22 18:00</span><em class=\"tag c_travel\">旅遊</em><a href=\"/news/20191222/1602662.htm\" target=\"_blank\">狂！台南「每日限量」浮誇炙燒鮭魚拼盤　邪惡蜂蜜芥末還加了鮭魚卵</a></h3>\n",
       "<h3><span class=\"date\">2019/12/22 17:59</span><em class=\"tag c_netsearch\">網搜</em><a href=\"/news/20191222/1607871.htm\" target=\"_blank\">努力送外賣存錢！熊貓哥送老婆iPhone 11 Pro…借用驚見綠光真相</a></h3>\n",
       "<h3><span class=\"date\">2019/12/22 17:57</span><em class=\"tag c_travel\">旅遊</em><a href=\"/news/20191222/1607852.htm\" target=\"_blank\">一秒到歐洲！華麗燈飾混搭熱情原民風　超美教堂隱身屏東原鄉部落</a></h3>\n",
       "<h3><span class=\"date\">2019/12/22 17:55</span><em class=\"tag c_society\">社會</em><a href=\"/news/20191222/1607895.htm\" target=\"_blank\">獨／叔叔竟是惡狼！　未成年姊妹花遭蹂躪1人還懷孕</a></h3>\n",
       "<h3><span class=\"date\">2019/12/22 17:55</span><em class=\"tag c_pet\">寵物動物</em><a href=\"/news/20191222/1607848.htm\" target=\"_blank\"><i class=\"icon_type_video\"></i>虎斑老大氣不過！出喵拳教訓「偷水賊」　牠無限暢飲秀下限</a></h3>\n",
       "<h3><span class=\"date\">2019/12/22 17:54</span><em class=\"tag c_lifestyle\">生活</em><a href=\"/news/20191222/1607865.htm\" target=\"_blank\">女同學四季都穿寬褲！他瞄見小腿驚呆　納悶「穿這樣的人都有點胖」秒引戰</a></h3>\n",
       "<h3><span class=\"date\">2019/12/22 17:51</span><em class=\"tag c_local\">地方</em><a href=\"/news/20191222/1607902.htm\" target=\"_blank\">台南耶誕跨年晚會　安維及交通疏導安平警順利完成</a></h3>\n",
       "<h3><span class=\"date\">2019/12/22 17:50</span><em class=\"tag c_star\">影劇</em><a href=\"/news/20191222/1607901.htm\" target=\"_blank\">許維芳12月28日生日音樂會倒數！　3大嘉賓曝光</a></h3>\n",
       "<h3><span class=\"date\">2019/12/22 17:48</span><em class=\"tag c_sport\">體育</em><a href=\"/news/20191222/1607900.htm\" target=\"_blank\">UBA／白曜誠20分8籃板　義守退台藝大晉8強</a></h3>\n",
       "<h3><span class=\"date\">2019/12/22 17:47</span><em class=\"tag c_news\">政治</em><a href=\"/news/20191222/1607877.htm\" target=\"_blank\">酸光復高雄「遮羞布」　林飛帆嗆韓國瑜：沒展現高度！</a></h3>\n",
       "<h3><span class=\"date\">2019/12/22 17:47</span><em class=\"tag c_star\">影劇</em><a href=\"/news/20191222/1607875.htm\" target=\"_blank\"><i class=\"icon_type_video\"></i>離婚4個月…宋宋夫婦爆復合！　宋慧喬「重新戴回婚戒」掀熱議</a></h3>\n",
       "<h3><span class=\"date\">2019/12/22 17:46</span><em class=\"tag c_news\">政治</em><a href=\"/news/20191222/1607897.htm\" target=\"_blank\"><i class=\"icon_type_video\"></i>影／韓國瑜怒嗆名嘴：網軍殺死外交官一句都不敢吭！只攻擊我岳父跟老婆</a></h3>\n",
       "<h3><span class=\"date\">2019/12/22 17:44</span><em class=\"tag c_local\">地方</em><a href=\"/news/20191222/1607890.htm\" target=\"_blank\">爭取多年　台東市馬當部落明年豐年祭前可動土</a></h3>\n",
       "<h3><span class=\"date\">2019/12/22 17:43</span><em class=\"tag c_star\">影劇</em><a href=\"/news/20191222/1607893.htm\" target=\"_blank\"><i class=\"icon_type_video\"></i>宇宙人穿制服返母校開唱...小玉自爆「考過0分」理由超浪漫！</a></h3>\n",
       "<h3><span class=\"date\">2019/12/22 17:43</span><em class=\"tag c_china\">大陸</em><a href=\"/news/20191222/1607878.htm\" target=\"_blank\"><i class=\"icon_type_video\"></i>影／買新車剛開出車行！男三寶狂踩油門「3秒撞樹GG了」…網笑：急著返廠維修？</a></h3>\n",
       "<h3><span class=\"date\">2019/12/22 17:42</span><em class=\"tag c_pet\">寵物動物</em><a href=\"/news/20191222/1605412.htm\" target=\"_blank\"><i class=\"icon_type_video\"></i>不要搶我豬腳！阿金猙獰臉死不放...底下臘腸「一臉著急」</a></h3>\n",
       "<h3><span class=\"date\">2019/12/22 17:41</span><em class=\"tag c_star\">影劇</em><a href=\"/news/20191222/1607886.htm\" target=\"_blank\">方文琳23歲女兒咖啡店打工！　甜笑倒豆子「偶像級顏值」網友戀愛了</a></h3>\n",
       "<h3><span class=\"date\">2019/12/22 17:40</span><em class=\"tag c_local\">地方</em><a href=\"/news/20191222/1607891.htm\" target=\"_blank\">感謝13位老榮民為國付出　台中榮服處虔誠舉辦亡者晉塔忠靈祠</a></h3>\n",
       "<h3><span class=\"date\">2019/12/22 17:39</span><em class=\"tag c_star\">影劇</em><a href=\"/news/20191222/1607896.htm\" target=\"_blank\">胡瓜遭2阿嬤「夾擊撲倒強脫」　他扭動身體爬起來...被當眾摸屁股</a></h3>\n",
       "<h3><span class=\"date\">2019/12/22 17:38</span><em class=\"tag c_society\">社會</em><a href=\"/news/20191222/1607847.htm\" target=\"_blank\">交友App約砲高中弟！「白天車上怪怪」露餡　大叔辯：他們喜歡中年人</a></h3>\n",
       "<h3><span class=\"date\">2019/12/22 17:36</span><em class=\"tag c_local\">地方</em><a href=\"/news/20191222/1607892.htm\" target=\"_blank\">張善政談科學工業園區管理條例　痛批民進黨玩文字遊戲</a></h3>\n",
       "<h3><span class=\"date\">2019/12/22 17:36</span><em class=\"tag c_sport\">體育</em><a href=\"/news/20191222/1607888.htm\" target=\"_blank\">高國輝要求子弟兵不在意球探觀賽　林哲瑄建議：有機會旅外就去闖</a></h3>\n",
       "<h3><span class=\"date\">2019/12/22 17:32</span><em class=\"tag c_lifestyle\">生活</em><a href=\"/news/20191222/1607883.htm\" target=\"_blank\">盤中藝術果凍花　亞餐創意教學創南台灣高職之先</a></h3>\n",
       "<h3><span class=\"date\">2019/12/22 17:31</span><em class=\"tag c_lifestyle\">生活</em><a href=\"/news/20191222/1607814.htm\" target=\"_blank\">交換禮物抽到「透明試管香水」！古意男一聞疑惑了　網壞笑：鼻子不通時...</a></h3>\n",
       "<h3><span class=\"date\">2019/12/22 17:31</span><em class=\"tag c_global\">國際</em><a href=\"/news/20191222/1607655.htm\" target=\"_blank\">夫妻結婚30年生5子　「挖出老父母婚紗照」竟揭不堪風流史…2人變兄妹辦離婚</a></h3>\n",
       "<h3><span class=\"date\">2019/12/22 17:30</span><em class=\"tag c_finance\">財經</em><a href=\"/news/20191222/1607887.htm\" target=\"_blank\">2020職場目標大調查　2成5上班族最希望加薪、升遷</a></h3>\n",
       "<h3><span class=\"date\">2019/12/22 17:26</span><em class=\"tag c_sport\">體育</em><a href=\"/news/20191222/1607885.htm\" target=\"_blank\">楊恩狂轟47分齊名喬丹、詹皇　老鷹仍被籃網逆轉7連敗</a></h3>\n",
       "<h3><span class=\"date\">2019/12/22 17:26</span><em class=\"tag c_health\">健康</em><a href=\"/news/20191222/1605012.htm\" target=\"_blank\">光喝水不夠！感冒推「5食材」好超快...流鼻水、噴嚏快吃</a></h3>\n",
       "<h3><span class=\"date\">2019/12/22 17:25</span><em class=\"tag c_news\">政治</em><a href=\"/news/20191222/1607876.htm\" target=\"_blank\">時力娘子軍「狹路相逢」張善政　街頭高喊：92不能投、下架吳斯懷</a></h3>\n",
       "<h3><span class=\"date\">2019/12/22 17:24</span><em class=\"tag c_news\">政治</em><a href=\"/news/20191222/1607867.htm\" target=\"_blank\">藍白候選人夾殺！余天趕造勢「捍衛三重鐵票倉」　李翁月娥深根基層搶票</a></h3>\n",
       "<h3><span class=\"date\">2019/12/22 17:21</span><em class=\"tag c_consuming\">消費</em><a href=\"/news/20191222/1607870.htm\" target=\"_blank\">只到12月31日！4大超商年終點數兌換清倉　全家推2點可折消費1元</a></h3>\n",
       "<h3><span class=\"date\">2019/12/22 17:19</span><em class=\"tag c_star\">影劇</em><a href=\"/news/20191222/1607873.htm\" target=\"_blank\"><i class=\"icon_type_video\"></i>吳青峰3個月拼4場演唱會...台北2.4萬張門票「7分鐘完售」！</a></h3>\n",
       "<h3><span class=\"date\">2019/12/22 17:15</span><em class=\"tag c_sport\">體育</em><a href=\"/news/20191222/1607872.htm\" target=\"_blank\">一日總教練！林哲瑄找回初衷　高國輝不知道總仔要幹嘛</a></h3>\n",
       "<h3><span class=\"date\">2019/12/22 17:15</span><em class=\"tag c_star\">影劇</em><a href=\"/news/20191222/1607864.htm\" target=\"_blank\"><i class=\"icon_type_video\"></i>獨家專訪／大賢才講3句中文就害羞噗哧！為鐘業打氣：一起加油</a></h3>\n",
       "<h3><span class=\"date\">2019/12/22 17:14</span><em class=\"tag c_pet\">寵物動物</em><a href=\"/news/20191222/1607854.htm\" target=\"_blank\">1隻肥美嫩貓才賣946元！　站上電子秤「體重暴露」...牠自己看傻</a></h3>\n",
       "<h3><span class=\"date\">2019/12/22 17:12</span><em class=\"tag c_local\">地方</em><a href=\"/news/20191222/1607869.htm\" target=\"_blank\">小英台南競總冬至搓湯圓　宣布舉辦史上最大場造勢</a></h3>\n",
       "<h3><span class=\"date\">2019/12/22 17:11</span><em class=\"tag c_fashion\">時尚</em><a href=\"/news/20191222/1605417.htm\" target=\"_blank\">2020春天髮型趨勢先預習！韓系微翹捲髮可長可短，營造浪漫初戀感</a></h3>\n",
       "<h3><span class=\"date\">2019/12/22 17:10</span><em class=\"tag c_china\">大陸</em><a href=\"/news/20191222/1607862.htm\" target=\"_blank\">林鄭月娥個資被公開　擔心「起底」瓦解香港社會</a></h3>\n",
       "<h3><span class=\"date\">2019/12/22 17:09</span><em class=\"tag c_star\">影劇</em><a href=\"/news/20191222/1607866.htm\" target=\"_blank\"><i class=\"icon_type_video\"></i>柴智屏嫁女兒！高雋雅世紀婚禮「一堆大咖巨星」　ETtoday直播見證愛情</a></h3>\n",
       "<h3><span class=\"date\">2019/12/22 17:07</span><em class=\"tag c_society\">社會</em><a href=\"/news/20191222/1607849.htm\" target=\"_blank\">人妻車內偷情！氣音驚呼「好Ｘ」　老公超綠…行車紀錄器抓猴</a></h3>\n",
       "<h3><span class=\"date\">2019/12/22 17:01</span><em class=\"tag c_global\">國際</em><a href=\"/news/20191222/1607842.htm\" target=\"_blank\">出席兒子葬禮…老父被成群蜜蜂螫傷死亡　兩人「遺體埋一起」</a></h3>\n",
       "<h3><span class=\"date\">2019/12/22 17:00</span><em class=\"tag c_lifestyle\">生活</em><a href=\"/news/20191222/1607811.htm\" target=\"_blank\">24歲女偷相親「才和男友甜蜜擊掌」...多金男點頭秒分　哥們嘆：送過她筆電</a></h3>\n",
       "<h3><span class=\"date\">2019/12/22 17:00</span><em class=\"tag c_china\">大陸</em><a href=\"/news/20191222/1607631.htm\" target=\"_blank\">華聞快遞／廣東出台港澳台居民養老保險新政</a></h3>\n",
       "<h3><span class=\"date\">2019/12/22 17:00</span><em class=\"tag c_travel\">旅遊</em><a href=\"/news/20191222/1602086.htm\" target=\"_blank\">聯名人氣銀波布丁！高雄療癒冰店　「草莓波波」加煉乳超銷魂</a></h3>\n",
       "<h3><span class=\"date\">2019/12/22 16:59</span><em class=\"tag c_news\">政治</em><a href=\"/news/20191222/1607846.htm\" target=\"_blank\">護吳敦義「衰尾查某」　馬英九：他是指蔡英文做的很糟糕</a></h3>\n",
       "<h3><span class=\"date\">2019/12/22 16:57</span><em class=\"tag c_local\">地方</em><a href=\"/news/20191222/1607856.htm\" target=\"_blank\">百師同測地球傾斜角度　冬至中午12:19創兩岸合作新紀錄</a></h3>\n",
       "<h3><span class=\"date\">2019/12/22 16:54</span><em class=\"tag c_sport\">體育</em><a href=\"/news/20191222/1607863.htm\" target=\"_blank\">ABL／塔克連飆4顆三分彈救火　夢想家遭菲律賓逆轉1分飲恨</a></h3>\n",
       "<h3><span class=\"date\">2019/12/22 16:54</span><em class=\"tag c_house\">房產雲</em><a href=\"/news/20191222/1607833.htm\" target=\"_blank\">中山北路二段兩大地標bye了　20年星巴克公告下周四歇業</a></h3>\n",
       "<h3><span class=\"date\">2019/12/22 16:53</span><em class=\"tag c_pet\">寵物動物</em><a href=\"/news/20191222/1607677.htm\" target=\"_blank\"><i class=\"icon_type_video\"></i>沉寂1個月不說話！鸚鵡突然「哭腔狂喊」：我要死了～</a></h3>\n",
       "<h3><span class=\"date\">2019/12/22 16:52</span><em class=\"tag c_travel\">旅遊</em><a href=\"/news/20191222/1607859.htm\" target=\"_blank\">消費稅變10%、離境日本要付錢！赴日旅遊必知4大稅制懶人包</a></h3>\n",
       "<h3><span class=\"date\">2019/12/22 16:50</span><em class=\"tag c_society\">社會</em><a href=\"/news/20191222/1607858.htm\" target=\"_blank\">涉跨國運毒1公噸！2台毒梟躲胡志明市民宿被逮　今押解返台</a></h3>\n",
       "<h3><span class=\"date\">2019/12/22 16:49</span><em class=\"tag c_local\">地方</em><a href=\"/news/20191222/1607860.htm\" target=\"_blank\">蔡筱薇與成大生物科技中心合作　關懷社區長輩並推展天然農作愛土地</a></h3>\n",
       "<h3><span class=\"date\">2019/12/22 16:44</span><em class=\"tag c_news\">政治</em><a href=\"/news/20191222/1607850.htm\" target=\"_blank\"><i class=\"icon_type_video\"></i>罷韓隊伍「光復高雄布條」底下沒人？　台灣基進PO 41秒短片打臉</a></h3>\n",
       "<h3><span class=\"date\">2019/12/22 16:44</span><em class=\"tag c_global\">國際</em><a href=\"/news/20191222/1607673.htm\" target=\"_blank\">她11歲被親哥拖上樓「硬當洩慾娃娃」　40年後終報警…親哥卻秒輕生躲罪！</a></h3>\n",
       "<h3><span class=\"date\">2019/12/22 16:44</span><em class=\"tag c_travel\">旅遊</em><a href=\"/news/20191222/1602634.htm\" target=\"_blank\">礁溪飯店房內就可泡溫泉　必吃8盎司爐烤穀飼沙朗牛</a></h3>\n",
       "<h3><span class=\"date\">2019/12/22 16:43</span><em class=\"tag c_news\">政治</em><a href=\"/news/20191222/1607855.htm\" target=\"_blank\">出席江啟臣造勢大會　盧秀燕轟：下架不聽中部人聲音的蔡英文</a></h3>\n",
       "<h3><span class=\"date\">2019/12/22 16:41</span><em class=\"tag c_travel\">旅遊</em><a href=\"/news/20191222/1602435.htm\" target=\"_blank\">食材轉給你夾！超狂吃到飽火鍋300有找　必點招牌麻辣老鍋</a></h3>\n",
       "<h3><span class=\"date\">2019/12/22 16:40</span><em class=\"tag c_society\">社會</em><a href=\"/news/20191222/1607843.htm\" target=\"_blank\">彰化國三女遭撞重傷進加護　經濟窘迫沒錢開刀...校方設募款帳戶求助</a></h3>\n",
       "<h3><span class=\"date\">2019/12/22 16:39</span><em class=\"tag c_local\">地方</em><a href=\"/news/20191222/1607857.htm\" target=\"_blank\">妃妃姐姐展現黃金右腳　陳亭妃與小朋友一起過聖誕</a></h3>\n",
       "<h3><span class=\"date\">2019/12/22 16:38</span><em class=\"tag c_travel\">旅遊</em><a href=\"/news/20191222/1601374.htm\" target=\"_blank\">台中精誠巷弄細火交織的匠心料理：獨門醬汁鰻魚飯超滿足</a></h3>\n",
       "<h3><span class=\"date\">2019/12/22 16:34</span><em class=\"tag c_society\">社會</em><a href=\"/news/20191222/1607839.htm\" target=\"_blank\">男仲介誆法律諮詢！單親媽「為爭監護權被硬上」　奇怪和解書讓她崩潰　　　</a></h3>\n",
       "<h3><span class=\"date\">2019/12/22 16:34</span><em class=\"tag c_travel\">旅遊</em><a href=\"/news/20191222/1603787.htm\" target=\"_blank\">來趟冬季自由行！盤點大阪「9大必去景點」　還有直升機體驗</a></h3>\n",
       "<h3><span class=\"date\">2019/12/22 16:32</span><em class=\"tag c_sport\">體育</em><a href=\"/news/20191222/1607851.htm\" target=\"_blank\">42青棒明日之星齊聚！郭泓志：比我以前壯好多</a></h3>\n",
       "<h3><span class=\"date\">2019/12/22 16:32</span><em class=\"tag c_lifestyle\">生活</em><a href=\"/news/20191222/1607823.htm\" target=\"_blank\">聊天突然「擔哇幾刀估啊」同學狂笑！他曝意思　急問卦：北部人不懂嗎</a></h3>\n",
       "<h3><span class=\"date\">2019/12/22 16:31</span><em class=\"tag c_china\">大陸</em><a href=\"/news/20191222/1607834.htm\" target=\"_blank\">微信大頭貼換「賓拉登」！他群組開玩笑：來加入ISIS　遭判囚9個月</a></h3>\n",
       "<h3><span class=\"date\">2019/12/22 16:29</span><em class=\"tag c_pet\">寵物動物</em><a href=\"/news/20191222/1607763.htm\" target=\"_blank\">聽見「響屁」嚇爆！三花貓「飛機耳＋皺眉」怒瞪媽：什麼聲音？</a></h3>\n",
       "</div>"
      ]
     },
     "execution_count": 6,
     "metadata": {},
     "output_type": "execute_result"
    }
   ],
   "source": [
    "div_tag"
   ]
  },
  {
   "cell_type": "code",
   "execution_count": 7,
   "metadata": {},
   "outputs": [
    {
     "data": {
      "text/plain": [
       "['2019/12/22 19:18',\n",
       " '2019/12/22 19:17',\n",
       " '2019/12/22 19:12',\n",
       " '2019/12/22 19:10',\n",
       " '2019/12/22 19:07',\n",
       " '2019/12/22 19:03',\n",
       " '2019/12/22 19:02',\n",
       " '2019/12/22 19:01',\n",
       " '2019/12/22 19:00',\n",
       " '2019/12/22 18:59']"
      ]
     },
     "execution_count": 7,
     "metadata": {},
     "output_type": "execute_result"
    }
   ],
   "source": [
    "#取出發文時間\n",
    "date_time = div_tag.find_all('span' , class_='date')\n",
    "date_times = [span.get_text() for span in date_time]\n",
    "date_times[:10]"
   ]
  },
  {
   "cell_type": "code",
   "execution_count": 8,
   "metadata": {},
   "outputs": [
    {
     "data": {
      "text/plain": [
       "['影劇', '政治', '影劇', '影劇', '影劇', '大陸', '影劇', '寵物動物', '網搜', '影劇']"
      ]
     },
     "execution_count": 8,
     "metadata": {},
     "output_type": "execute_result"
    }
   ],
   "source": [
    "#取出文章類別\n",
    "em_tags = div_tag.find_all('em')\n",
    "news_catagory= [em.get_text() for em in em_tags]\n",
    "news_catagory[:10]"
   ]
  },
  {
   "cell_type": "code",
   "execution_count": 9,
   "metadata": {},
   "outputs": [
    {
     "data": {
      "text/plain": [
       "['周杰倫「IG巧妙排版」：對面的女孩看過來！\\u3000粉絲打開主頁被閃瞎',\n",
       " '王金平選前歸隊挺藍委\\u3000韓國瑜：十幾年來都對他都有一份敬重之心',\n",
       " '李棟旭爆把妹直接要電話「隔天就約吃飯」！李壽根傳出演下期嘉賓',\n",
       " '柴智屏嫁女兒「大小S突缺席」汪小菲獨撐場！驚傳「徐媽媽生病了」',\n",
       " '謝忻婚宴穿著超有禮貌！\\u3000「胡瓜助理身份出席」被問阿翔她尷尬笑',\n",
       " '颱風天救災到凌晨！消防員路邊吞12包子…血壓過低離職「身體好再歸隊」',\n",
       " '大咖韓劇女神在高雄！\\u3000瘋嚐台灣美食「打卡瑞豐夜市」狂讚：最愛奶茶',\n",
       " '戲精鸚鵡「哭腔+啜泣」狂喊：要被咬死了\\u3000姐一看...根本沒人動牠',\n",
       " 'DCARD強大對手出現！\\u3000女大生脫離邊緣人感情觸礁大丈夫  \\u3000',\n",
       " '《圈套》吳承洋：我放棄唱歌好多年\\u3000首場演唱會「情歌天后」站台秒淚崩']"
      ]
     },
     "execution_count": 9,
     "metadata": {},
     "output_type": "execute_result"
    }
   ],
   "source": [
    "#取出文章標題\n",
    "a_tags = div_tag.find_all('a')\n",
    "news_titles= [a.get_text() for a in a_tags]\n",
    "news_titles[:10]"
   ]
  },
  {
   "cell_type": "code",
   "execution_count": 10,
   "metadata": {},
   "outputs": [
    {
     "data": {
      "text/plain": [
       "['周杰倫「IG巧妙排版」：對面的女孩看過來！ 粉絲打開主頁被閃瞎',\n",
       " '王金平選前歸隊挺藍委 韓國瑜：十幾年來都對他都有一份敬重之心',\n",
       " '李棟旭爆把妹直接要電話「隔天就約吃飯」！李壽根傳出演下期嘉賓',\n",
       " '柴智屏嫁女兒「大小S突缺席」汪小菲獨撐場！驚傳「徐媽媽生病了」',\n",
       " '謝忻婚宴穿著超有禮貌！ 「胡瓜助理身份出席」被問阿翔她尷尬笑',\n",
       " '颱風天救災到凌晨！消防員路邊吞12包子…血壓過低離職「身體好再歸隊」',\n",
       " '大咖韓劇女神在高雄！ 瘋嚐台灣美食「打卡瑞豐夜市」狂讚：最愛奶茶',\n",
       " '戲精鸚鵡「哭腔+啜泣」狂喊：要被咬死了 姐一看...根本沒人動牠',\n",
       " 'DCARD強大對手出現！ 女大生脫離邊緣人感情觸礁大丈夫   ',\n",
       " '《圈套》吳承洋：我放棄唱歌好多年 首場演唱會「情歌天后」站台秒淚崩']"
      ]
     },
     "execution_count": 10,
     "metadata": {},
     "output_type": "execute_result"
    }
   ],
   "source": [
    "#把標題的全形空白(\\U3000)換成半形空白\n",
    "news_titles=[x.replace('\\u3000', ' ') for x in news_titles]\n",
    "news_titles[0:10]"
   ]
  },
  {
   "cell_type": "markdown",
   "metadata": {},
   "source": [
    "### ② 如果想要依照類別分類，怎麼儲存會比較好？"
   ]
  },
  {
   "cell_type": "code",
   "execution_count": 12,
   "metadata": {},
   "outputs": [],
   "source": [
    "#利用標題與分類存在dictionary中\n",
    "news_sort={}"
   ]
  },
  {
   "cell_type": "code",
   "execution_count": 13,
   "metadata": {},
   "outputs": [
    {
     "name": "stdout",
     "output_type": "stream",
     "text": [
      "影劇 周杰倫「IG巧妙排版」：對面的女孩看過來！ 粉絲打開主頁被閃瞎\n",
      "政治 王金平選前歸隊挺藍委 韓國瑜：十幾年來都對他都有一份敬重之心\n",
      "影劇 李棟旭爆把妹直接要電話「隔天就約吃飯」！李壽根傳出演下期嘉賓\n",
      "影劇 柴智屏嫁女兒「大小S突缺席」汪小菲獨撐場！驚傳「徐媽媽生病了」\n",
      "影劇 謝忻婚宴穿著超有禮貌！ 「胡瓜助理身份出席」被問阿翔她尷尬笑\n",
      "大陸 颱風天救災到凌晨！消防員路邊吞12包子…血壓過低離職「身體好再歸隊」\n",
      "影劇 大咖韓劇女神在高雄！ 瘋嚐台灣美食「打卡瑞豐夜市」狂讚：最愛奶茶\n",
      "寵物動物 戲精鸚鵡「哭腔+啜泣」狂喊：要被咬死了 姐一看...根本沒人動牠\n",
      "網搜 DCARD強大對手出現！ 女大生脫離邊緣人感情觸礁大丈夫   \n",
      "影劇 《圈套》吳承洋：我放棄唱歌好多年 首場演唱會「情歌天后」站台秒淚崩\n",
      "健康 女子吃止痛藥後竟起紅疹休克送醫  全身型過敏性反應可能致命！\n",
      "健康 咻咻的呼吸聲秋冬不怕氣喘犯 奇美醫協助＂棄＂喘大作戰\n",
      "影劇 哈孝遠老婆婚宴胸前大開深V「伴娘消失追星」 他累爆全身汗：婚結一次就好\n",
      "房產雲 盤點新北拆除8座「蚊子橋」 周邊店面成大贏家租金up\n",
      "政治 台灣指標民調／花蓮立委選情膠著 蕭美琴緊追傅焜萁0.4％\n",
      "影劇 林俊傑家鄉開唱「8萬觀眾破紀錄」...少女時代成員驚喜現身！\n",
      "健康 冬至「瘋進補」拖垮身體！醫：自制力＝健康力...能防百病入侵\n",
      "影劇 柴智屏女兒伴娘曝光！「高顏值女星」性感現身：她就是敢找我\n",
      "影劇 男友劈腿嫌「顏值輸給前女友」 日女星整形飄仙氣「G奶是真的！」\n",
      "寵物動物 硬撐陪媽媽工作！ 暖心貓累到頭靠筆電...下秒「先睡著了」\n",
      "政治 李佳芬低調回高雄參加公益活動 聽到「新莊王小姐」快步離去\n",
      "時尚 迪奧「玫瑰粉頰彩」全新升級 經典緹花壓紋超時髦\n",
      "寵物動物 超友善商店！收編同胎「浪貓→店貓」 準備雙碗貓盆餵飼料\n",
      "影劇 柴智屏嫁女兒超辣！緊身禮服「上下深V」一插腰好身材炸出\n",
      "地方 鍾佳濱力挺台灣盃三對三女籃賽 挑戰明年前進東京奧運\n",
      "寵物動物 「請你讓開！」阿嬤苦勸狗孫借過 牠故意大腿開開：才不要\n",
      "影劇 高雋雅大婚有「媳婦守則」？ 柴智屏誇女兒：比我還會駕馭男人\n",
      "國際 川普要征服宇宙！投入22兆軍事預算 成立「太空軍」要與中俄鬥到銀河系\n",
      "體育 潘政琮在美國成立基金會 分享赴美經驗提「4A」要素\n",
      "ET車雲 年底買新車「錢怎麼花在刀口上」？3大重點提醒、科技配備選滿\n",
      "生活 一周天氣出爐！巴逢颱風水氣亂「周五全台有雨」 氣象局曝跨年變數\n",
      "大陸 雲南「炒豬團」轎車載豬闖ETC 「運一頭多賺4千」屎味太臭被抓\n",
      "地方 耶誕跨年演唱會辛苦執勤 暖心分局長設置行動補給站\n",
      "影劇 要求贊助婚紗「趕工完成又嫌垃圾不穿」 設計師踢爆女星：把自己當受害者\n",
      "旅遊 狂！台南「每日限量」浮誇炙燒鮭魚拼盤 邪惡蜂蜜芥末還加了鮭魚卵\n",
      "網搜 努力送外賣存錢！熊貓哥送老婆iPhone 11 Pro…借用驚見綠光真相\n",
      "旅遊 一秒到歐洲！華麗燈飾混搭熱情原民風 超美教堂隱身屏東原鄉部落\n",
      "社會 獨／叔叔竟是惡狼！ 未成年姊妹花遭蹂躪1人還懷孕\n",
      "寵物動物 虎斑老大氣不過！出喵拳教訓「偷水賊」 牠無限暢飲秀下限\n",
      "生活 女同學四季都穿寬褲！他瞄見小腿驚呆 納悶「穿這樣的人都有點胖」秒引戰\n",
      "地方 台南耶誕跨年晚會 安維及交通疏導安平警順利完成\n",
      "影劇 許維芳12月28日生日音樂會倒數！ 3大嘉賓曝光\n",
      "體育 UBA／白曜誠20分8籃板 義守退台藝大晉8強\n",
      "政治 酸光復高雄「遮羞布」 林飛帆嗆韓國瑜：沒展現高度！\n",
      "影劇 離婚4個月…宋宋夫婦爆復合！ 宋慧喬「重新戴回婚戒」掀熱議\n",
      "政治 影／韓國瑜怒嗆名嘴：網軍殺死外交官一句都不敢吭！只攻擊我岳父跟老婆\n",
      "地方 爭取多年 台東市馬當部落明年豐年祭前可動土\n",
      "影劇 宇宙人穿制服返母校開唱...小玉自爆「考過0分」理由超浪漫！\n",
      "大陸 影／買新車剛開出車行！男三寶狂踩油門「3秒撞樹GG了」…網笑：急著返廠維修？\n",
      "寵物動物 不要搶我豬腳！阿金猙獰臉死不放...底下臘腸「一臉著急」\n",
      "影劇 方文琳23歲女兒咖啡店打工！ 甜笑倒豆子「偶像級顏值」網友戀愛了\n",
      "地方 感謝13位老榮民為國付出 台中榮服處虔誠舉辦亡者晉塔忠靈祠\n",
      "影劇 胡瓜遭2阿嬤「夾擊撲倒強脫」 他扭動身體爬起來...被當眾摸屁股\n",
      "社會 交友App約砲高中弟！「白天車上怪怪」露餡 大叔辯：他們喜歡中年人\n",
      "地方 張善政談科學工業園區管理條例 痛批民進黨玩文字遊戲\n",
      "體育 高國輝要求子弟兵不在意球探觀賽 林哲瑄建議：有機會旅外就去闖\n",
      "生活 盤中藝術果凍花 亞餐創意教學創南台灣高職之先\n",
      "生活 交換禮物抽到「透明試管香水」！古意男一聞疑惑了 網壞笑：鼻子不通時...\n",
      "國際 夫妻結婚30年生5子 「挖出老父母婚紗照」竟揭不堪風流史…2人變兄妹辦離婚\n",
      "財經 2020職場目標大調查 2成5上班族最希望加薪、升遷\n",
      "體育 楊恩狂轟47分齊名喬丹、詹皇 老鷹仍被籃網逆轉7連敗\n",
      "健康 光喝水不夠！感冒推「5食材」好超快...流鼻水、噴嚏快吃\n",
      "政治 時力娘子軍「狹路相逢」張善政 街頭高喊：92不能投、下架吳斯懷\n",
      "政治 藍白候選人夾殺！余天趕造勢「捍衛三重鐵票倉」 李翁月娥深根基層搶票\n",
      "消費 只到12月31日！4大超商年終點數兌換清倉 全家推2點可折消費1元\n",
      "影劇 吳青峰3個月拼4場演唱會...台北2.4萬張門票「7分鐘完售」！\n",
      "體育 一日總教練！林哲瑄找回初衷 高國輝不知道總仔要幹嘛\n",
      "影劇 獨家專訪／大賢才講3句中文就害羞噗哧！為鐘業打氣：一起加油\n",
      "寵物動物 1隻肥美嫩貓才賣946元！ 站上電子秤「體重暴露」...牠自己看傻\n",
      "地方 小英台南競總冬至搓湯圓 宣布舉辦史上最大場造勢\n",
      "時尚 2020春天髮型趨勢先預習！韓系微翹捲髮可長可短，營造浪漫初戀感\n",
      "大陸 林鄭月娥個資被公開 擔心「起底」瓦解香港社會\n",
      "影劇 柴智屏嫁女兒！高雋雅世紀婚禮「一堆大咖巨星」 ETtoday直播見證愛情\n",
      "社會 人妻車內偷情！氣音驚呼「好Ｘ」 老公超綠…行車紀錄器抓猴\n",
      "國際 出席兒子葬禮…老父被成群蜜蜂螫傷死亡 兩人「遺體埋一起」\n",
      "生活 24歲女偷相親「才和男友甜蜜擊掌」...多金男點頭秒分 哥們嘆：送過她筆電\n",
      "大陸 華聞快遞／廣東出台港澳台居民養老保險新政\n",
      "旅遊 聯名人氣銀波布丁！高雄療癒冰店 「草莓波波」加煉乳超銷魂\n",
      "政治 護吳敦義「衰尾查某」 馬英九：他是指蔡英文做的很糟糕\n",
      "地方 百師同測地球傾斜角度 冬至中午12:19創兩岸合作新紀錄\n",
      "體育 ABL／塔克連飆4顆三分彈救火 夢想家遭菲律賓逆轉1分飲恨\n",
      "房產雲 中山北路二段兩大地標bye了 20年星巴克公告下周四歇業\n",
      "寵物動物 沉寂1個月不說話！鸚鵡突然「哭腔狂喊」：我要死了～\n",
      "旅遊 消費稅變10%、離境日本要付錢！赴日旅遊必知4大稅制懶人包\n",
      "社會 涉跨國運毒1公噸！2台毒梟躲胡志明市民宿被逮 今押解返台\n",
      "地方 蔡筱薇與成大生物科技中心合作 關懷社區長輩並推展天然農作愛土地\n",
      "政治 罷韓隊伍「光復高雄布條」底下沒人？ 台灣基進PO 41秒短片打臉\n",
      "國際 她11歲被親哥拖上樓「硬當洩慾娃娃」 40年後終報警…親哥卻秒輕生躲罪！\n",
      "旅遊 礁溪飯店房內就可泡溫泉 必吃8盎司爐烤穀飼沙朗牛\n",
      "政治 出席江啟臣造勢大會 盧秀燕轟：下架不聽中部人聲音的蔡英文\n",
      "旅遊 食材轉給你夾！超狂吃到飽火鍋300有找 必點招牌麻辣老鍋\n",
      "社會 彰化國三女遭撞重傷進加護 經濟窘迫沒錢開刀...校方設募款帳戶求助\n",
      "地方 妃妃姐姐展現黃金右腳 陳亭妃與小朋友一起過聖誕\n",
      "旅遊 台中精誠巷弄細火交織的匠心料理：獨門醬汁鰻魚飯超滿足\n",
      "社會 男仲介誆法律諮詢！單親媽「為爭監護權被硬上」 奇怪和解書讓她崩潰   \n",
      "旅遊 來趟冬季自由行！盤點大阪「9大必去景點」 還有直升機體驗\n",
      "體育 42青棒明日之星齊聚！郭泓志：比我以前壯好多\n",
      "生活 聊天突然「擔哇幾刀估啊」同學狂笑！他曝意思 急問卦：北部人不懂嗎\n",
      "大陸 微信大頭貼換「賓拉登」！他群組開玩笑：來加入ISIS 遭判囚9個月\n",
      "寵物動物 聽見「響屁」嚇爆！三花貓「飛機耳＋皺眉」怒瞪媽：什麼聲音？\n"
     ]
    }
   ],
   "source": [
    "#將新聞標題放到相對應的新聞類別中\n",
    "for i in range(len(news_catagory)):\n",
    "    news_sort.setdefault(news_catagory[i], []).append(news_titles[i])\n",
    "    print (news_catagory[i],news_titles[i])"
   ]
  },
  {
   "cell_type": "code",
   "execution_count": 14,
   "metadata": {},
   "outputs": [
    {
     "data": {
      "text/plain": [
       "['鍾佳濱力挺台灣盃三對三女籃賽 挑戰明年前進東京奧運',\n",
       " '耶誕跨年演唱會辛苦執勤 暖心分局長設置行動補給站',\n",
       " '台南耶誕跨年晚會 安維及交通疏導安平警順利完成',\n",
       " '爭取多年 台東市馬當部落明年豐年祭前可動土',\n",
       " '感謝13位老榮民為國付出 台中榮服處虔誠舉辦亡者晉塔忠靈祠',\n",
       " '張善政談科學工業園區管理條例 痛批民進黨玩文字遊戲',\n",
       " '小英台南競總冬至搓湯圓 宣布舉辦史上最大場造勢',\n",
       " '百師同測地球傾斜角度 冬至中午12:19創兩岸合作新紀錄',\n",
       " '蔡筱薇與成大生物科技中心合作 關懷社區長輩並推展天然農作愛土地',\n",
       " '妃妃姐姐展現黃金右腳 陳亭妃與小朋友一起過聖誕']"
      ]
     },
     "execution_count": 14,
     "metadata": {},
     "output_type": "execute_result"
    }
   ],
   "source": [
    "news_sort['地方'][:10]"
   ]
  },
  {
   "cell_type": "code",
   "execution_count": 15,
   "metadata": {},
   "outputs": [
    {
     "data": {
      "text/plain": [
       "['戲精鸚鵡「哭腔+啜泣」狂喊：要被咬死了 姐一看...根本沒人動牠',\n",
       " '硬撐陪媽媽工作！ 暖心貓累到頭靠筆電...下秒「先睡著了」',\n",
       " '超友善商店！收編同胎「浪貓→店貓」 準備雙碗貓盆餵飼料',\n",
       " '「請你讓開！」阿嬤苦勸狗孫借過 牠故意大腿開開：才不要',\n",
       " '虎斑老大氣不過！出喵拳教訓「偷水賊」 牠無限暢飲秀下限',\n",
       " '不要搶我豬腳！阿金猙獰臉死不放...底下臘腸「一臉著急」',\n",
       " '1隻肥美嫩貓才賣946元！ 站上電子秤「體重暴露」...牠自己看傻',\n",
       " '沉寂1個月不說話！鸚鵡突然「哭腔狂喊」：我要死了～',\n",
       " '聽見「響屁」嚇爆！三花貓「飛機耳＋皺眉」怒瞪媽：什麼聲音？']"
      ]
     },
     "execution_count": 15,
     "metadata": {},
     "output_type": "execute_result"
    }
   ],
   "source": [
    "news_sort['寵物動物'][:10]"
   ]
  },
  {
   "cell_type": "markdown",
   "metadata": {},
   "source": [
    "### ③ 哪一個類別的文章最多"
   ]
  },
  {
   "cell_type": "code",
   "execution_count": 24,
   "metadata": {
    "scrolled": true
   },
   "outputs": [],
   "source": [
    "news_count={}"
   ]
  },
  {
   "cell_type": "code",
   "execution_count": 29,
   "metadata": {},
   "outputs": [],
   "source": [
    "for i in range(len(news_catagory)):\n",
    "    news_count[news_catagory[i]]=news_count.setdefault(news_catagory[i], 0) +1\n",
    "    "
   ]
  },
  {
   "cell_type": "code",
   "execution_count": 30,
   "metadata": {},
   "outputs": [
    {
     "data": {
      "text/plain": [
       "{'影劇': 21,\n",
       " '政治': 10,\n",
       " '大陸': 6,\n",
       " '寵物動物': 9,\n",
       " '網搜': 2,\n",
       " '健康': 4,\n",
       " '房產雲': 2,\n",
       " '時尚': 2,\n",
       " '地方': 10,\n",
       " '國際': 4,\n",
       " '體育': 7,\n",
       " 'ET車雲': 1,\n",
       " '生活': 6,\n",
       " '旅遊': 8,\n",
       " '社會': 6,\n",
       " '財經': 1,\n",
       " '消費': 1}"
      ]
     },
     "execution_count": 30,
     "metadata": {},
     "output_type": "execute_result"
    }
   ],
   "source": [
    "news_count"
   ]
  },
  {
   "cell_type": "code",
   "execution_count": null,
   "metadata": {},
   "outputs": [],
   "source": []
  }
 ],
 "metadata": {
  "kernelspec": {
   "display_name": "Python 3",
   "language": "python",
   "name": "python3"
  },
  "language_info": {
   "codemirror_mode": {
    "name": "ipython",
    "version": 3
   },
   "file_extension": ".py",
   "mimetype": "text/x-python",
   "name": "python",
   "nbconvert_exporter": "python",
   "pygments_lexer": "ipython3",
   "version": "3.6.7"
  }
 },
 "nbformat": 4,
 "nbformat_minor": 2
}
